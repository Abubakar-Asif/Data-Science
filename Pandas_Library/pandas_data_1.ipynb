{
 "cells": [
  {
   "cell_type": "markdown",
   "metadata": {},
   "source": [
    "**Note :**\\\n",
    "Some steps of how to start the notebook are given below :\n",
    "1. First write the purpose of the notebook at the top of the notebook.\n",
    "2. Writter name.\n",
    "3. Date.\n",
    "4. Email.\n",
    "\n",
    "# 1. Data :\n",
    "\n",
    "Data is a collection of numbers and alphabets.\n",
    "Data can be in the form of text, images, audio, or video.\n",
    "It is used to produce information.\\\n",
    "**For Example :**\n",
    "\n",
    "Height , Width , Length , Waights , Name , Address , and Father Name etc.\n",
    "\n",
    "## 2. Data Frame :\n",
    "\n",
    "Data Frame consists of columns , rows , variables , units and indexes.\n",
    "\n",
    "**Note :**\\\n",
    "Some popular websites **OR** data base that provide us free data are given in the below :\n",
    "\n",
    "1. Github.com\n",
    "2. Kaggle.com\n",
    "3. google datasearch.\n",
    "4. faostats.com ( For agriculture data ).\n",
    "5. Websites. ( We can scrape ( take / pull / snatch ) the data from any websites e.g youtube , twitter , and facebook etc ).\n",
    "6. stats / Pakistan buro of statics.com ( Every country have their own statistics websites in which have country statistical information like population , agricultural statistics , poor people statistics , and rich people statistics etc ).\n",
    "\n",
    "## 3. Types of data :\n",
    "There are two types of data :\n",
    "* Primary Data.\n",
    "* Secondary Data.\n",
    "\n",
    "### 1. Primary Data :\n",
    "\n",
    "The data which are collected from the person to person **OR** Original data **OR** The data in which don't apply any statical function are called Primary Data.\n",
    "\n",
    "**For Example :**\\\n",
    "The data collected from the person like their height , weight , age , gender , or favorite dish etc.\n",
    "\n",
    "### 2. Secondary Data :\n",
    "\n",
    "The data which are collected from any source **OR** The data in which any statical function are applied on the data are called Secondary Data.\n",
    "\n",
    "**For Example :**\\\n",
    "The data collected any source like from internet , government , etc. All the data on the internet are Secondary Data.\n",
    "\n",
    "## 4. Use of data science in verious fields :\n",
    "\n",
    "The data science used in verious fields some are given below :\n",
    "* Nadra. ( Nadra have many information regarding to people ).\n",
    "* Crime detection. ( DNA , fingerprint detection or farensics ).\n",
    "* Bussiness. ( Stock exchange data / Money data / ML Algorithms ).\n",
    "* School / College / University. ( data base / data ).\n",
    "* Research data base. ( Expert data scientist do research the data or publish that Analyze it or predict it and then publish the output. They mostly deals with primary data ).\n",
    "\n",
    "# 5. Pandas Library : ( M.Imp ).\n",
    "\n",
    "Pandas is used to import the data ( Secondary data ) from the computer ( After downloading the data ). It is mostly used to import the data from the computer.\n",
    "\n",
    "# 6. Other libraries :\n",
    "\n",
    "Some libraries have their own data sets for learning purposes like seaborn , scikit-learn library. These libraries have their own data sets for training purposes we just need to call them in python.\n",
    "\n",
    "# 7. Import Pandas :\n",
    "\n",
    "After `import` the pandas library first we need to remove the mistakes in our data or clear our data.\n",
    "\n",
    "***Examples in the below :***"
   ]
  },
  {
   "cell_type": "markdown",
   "metadata": {},
   "source": [
    "**Importing the Library :**\n",
    "\n",
    "First we need to import the library using _import_ keyword."
   ]
  },
  {
   "cell_type": "code",
   "execution_count": 1,
   "metadata": {},
   "outputs": [],
   "source": [
    "# Pandas Library.\n",
    "\n",
    "import pandas as pd"
   ]
  },
  {
   "cell_type": "markdown",
   "metadata": {},
   "source": [
    "**Reading / Importing the data in python :**\n",
    "\n",
    "After import the pandas library , we need to import the data using _pandas read funtions_ that are available in the pandas library. Example in the below :"
   ]
  },
  {
   "cell_type": "code",
   "execution_count": 2,
   "metadata": {},
   "outputs": [],
   "source": [
    "df = pd.read_excel (\"pandas_01_day6.xlsx\")"
   ]
  },
  {
   "cell_type": "markdown",
   "metadata": {},
   "source": [
    "**Call the function :**\n",
    "\n",
    "After give the variable we can call / print them using the variable name. We don't need to call the variable using print function."
   ]
  },
  {
   "cell_type": "code",
   "execution_count": 3,
   "metadata": {},
   "outputs": [
    {
     "data": {
      "application/vnd.microsoft.datawrangler.viewer.v0+json": {
       "columns": [
        {
         "name": "index",
         "rawType": "int64",
         "type": "integer"
        },
        {
         "name": "Height",
         "rawType": "float64",
         "type": "float"
        },
        {
         "name": "Weight",
         "rawType": "int64",
         "type": "integer"
        },
        {
         "name": "Favourite Dish",
         "rawType": "object",
         "type": "string"
        }
       ],
       "ref": "64d032bb-1a68-4907-948a-f66ab68a2d9e",
       "rows": [
        [
         "0",
         "5.8",
         "101",
         "Chicken Pulao"
        ],
        [
         "1",
         "6.2",
         "92",
         "Biryani"
        ],
        [
         "2",
         "5.9",
         "62",
         "Karahi Ghosht"
        ],
        [
         "3",
         "5.9",
         "95",
         "Chicken Pulao"
        ],
        [
         "4",
         "5.9",
         "55",
         "Chicken Pulao"
        ],
        [
         "5",
         "5.3",
         "59",
         "Biryani"
        ],
        [
         "6",
         "5.6",
         "50",
         "Pasta"
        ],
        [
         "7",
         "5.9",
         "76",
         "Biryani"
        ],
        [
         "8",
         "5.1",
         "78",
         "Biryani"
        ],
        [
         "9",
         "5.4",
         "68",
         "Biryani"
        ],
        [
         "10",
         "5.11",
         "92",
         "Karahi Ghosht"
        ],
        [
         "11",
         "5.7",
         "73",
         "Biryani"
        ],
        [
         "12",
         "6.1",
         "78",
         "Biryani"
        ],
        [
         "13",
         "5.7",
         "80",
         "Karahi Ghosht"
        ],
        [
         "14",
         "5.8",
         "95",
         "Karahi Ghosht"
        ],
        [
         "15",
         "5.0",
         "57",
         "Biryani"
        ],
        [
         "16",
         "5.7",
         "68",
         "Karahi Ghosht"
        ],
        [
         "17",
         "5.9",
         "91",
         "Biryani"
        ],
        [
         "18",
         "5.8",
         "71",
         "Karahi Ghosht"
        ],
        [
         "19",
         "5.5",
         "64",
         "Biryani"
        ],
        [
         "20",
         "6.0",
         "85",
         "Biryani"
        ],
        [
         "21",
         "5.6",
         "72",
         "Biryani"
        ],
        [
         "22",
         "5.8",
         "74",
         "Chicken Pulao"
        ],
        [
         "23",
         "5.7",
         "78",
         "Biryani"
        ],
        [
         "24",
         "5.3",
         "75",
         "Chicken Pulao"
        ],
        [
         "25",
         "6.0",
         "50",
         "Biryani"
        ],
        [
         "26",
         "5.0",
         "25",
         "Biryani"
        ],
        [
         "27",
         "5.11",
         "76",
         "Chicken Pulao"
        ],
        [
         "28",
         "5.8",
         "65",
         "Biryani"
        ],
        [
         "29",
         "5.4",
         "63",
         "Biryani"
        ],
        [
         "30",
         "5.1",
         "62",
         "Karahi Ghosht"
        ],
        [
         "31",
         "5.9",
         "85",
         "Chicken Pulao"
        ],
        [
         "32",
         "5.9",
         "75",
         "Chicken Pulao"
        ],
        [
         "33",
         "5.1",
         "103",
         "Chapel Kaba"
        ],
        [
         "34",
         "6.0",
         "110",
         "Chapel Kaba"
        ],
        [
         "35",
         "5.0",
         "31",
         "Biryani"
        ],
        [
         "36",
         "5.7",
         "80",
         "Karahi Ghosht"
        ],
        [
         "37",
         "5.6",
         "52",
         "Chicken Pulao"
        ],
        [
         "38",
         "5.1",
         "61",
         "Chapel Kaba"
        ],
        [
         "39",
         "5.11",
         "55",
         "Chicken Pulao"
        ],
        [
         "40",
         "5.0",
         "50",
         "Chicken Pulao"
        ],
        [
         "41",
         "5.6",
         "86",
         "Chicken Pulao"
        ],
        [
         "42",
         "5.6",
         "49",
         "Chicken Pulao"
        ],
        [
         "43",
         "5.9",
         "64",
         "Biryani"
        ],
        [
         "44",
         "5.2",
         "48",
         "Biryani"
        ],
        [
         "45",
         null,
         "60",
         "Chapel Kaba"
        ],
        [
         "46",
         "5.8",
         "88",
         "Biryani"
        ],
        [
         "47",
         "5.9",
         "82",
         "Karahi Ghosht"
        ],
        [
         "48",
         "5.6",
         "72",
         "Chapel Kaba"
        ],
        [
         "49",
         "5.4",
         "60",
         "Biryani"
        ]
       ],
       "shape": {
        "columns": 3,
        "rows": 87
       }
      },
      "text/html": [
       "<div>\n",
       "<style scoped>\n",
       "    .dataframe tbody tr th:only-of-type {\n",
       "        vertical-align: middle;\n",
       "    }\n",
       "\n",
       "    .dataframe tbody tr th {\n",
       "        vertical-align: top;\n",
       "    }\n",
       "\n",
       "    .dataframe thead th {\n",
       "        text-align: right;\n",
       "    }\n",
       "</style>\n",
       "<table border=\"1\" class=\"dataframe\">\n",
       "  <thead>\n",
       "    <tr style=\"text-align: right;\">\n",
       "      <th></th>\n",
       "      <th>Height</th>\n",
       "      <th>Weight</th>\n",
       "      <th>Favourite Dish</th>\n",
       "    </tr>\n",
       "  </thead>\n",
       "  <tbody>\n",
       "    <tr>\n",
       "      <th>0</th>\n",
       "      <td>5.8</td>\n",
       "      <td>101</td>\n",
       "      <td>Chicken Pulao</td>\n",
       "    </tr>\n",
       "    <tr>\n",
       "      <th>1</th>\n",
       "      <td>6.2</td>\n",
       "      <td>92</td>\n",
       "      <td>Biryani</td>\n",
       "    </tr>\n",
       "    <tr>\n",
       "      <th>2</th>\n",
       "      <td>5.9</td>\n",
       "      <td>62</td>\n",
       "      <td>Karahi Ghosht</td>\n",
       "    </tr>\n",
       "    <tr>\n",
       "      <th>3</th>\n",
       "      <td>5.9</td>\n",
       "      <td>95</td>\n",
       "      <td>Chicken Pulao</td>\n",
       "    </tr>\n",
       "    <tr>\n",
       "      <th>4</th>\n",
       "      <td>5.9</td>\n",
       "      <td>55</td>\n",
       "      <td>Chicken Pulao</td>\n",
       "    </tr>\n",
       "    <tr>\n",
       "      <th>...</th>\n",
       "      <td>...</td>\n",
       "      <td>...</td>\n",
       "      <td>...</td>\n",
       "    </tr>\n",
       "    <tr>\n",
       "      <th>82</th>\n",
       "      <td>5.4</td>\n",
       "      <td>55</td>\n",
       "      <td>Pasta</td>\n",
       "    </tr>\n",
       "    <tr>\n",
       "      <th>83</th>\n",
       "      <td>5.9</td>\n",
       "      <td>75</td>\n",
       "      <td>Karahi Ghosht</td>\n",
       "    </tr>\n",
       "    <tr>\n",
       "      <th>84</th>\n",
       "      <td>5.4</td>\n",
       "      <td>61</td>\n",
       "      <td>Biryani</td>\n",
       "    </tr>\n",
       "    <tr>\n",
       "      <th>85</th>\n",
       "      <td>6.2</td>\n",
       "      <td>68</td>\n",
       "      <td>Chicken Pulao</td>\n",
       "    </tr>\n",
       "    <tr>\n",
       "      <th>86</th>\n",
       "      <td>5.1</td>\n",
       "      <td>96</td>\n",
       "      <td>Biryani</td>\n",
       "    </tr>\n",
       "  </tbody>\n",
       "</table>\n",
       "<p>87 rows × 3 columns</p>\n",
       "</div>"
      ],
      "text/plain": [
       "    Height  Weight Favourite Dish\n",
       "0      5.8     101  Chicken Pulao\n",
       "1      6.2      92        Biryani\n",
       "2      5.9      62  Karahi Ghosht\n",
       "3      5.9      95  Chicken Pulao\n",
       "4      5.9      55  Chicken Pulao\n",
       "..     ...     ...            ...\n",
       "82     5.4      55          Pasta\n",
       "83     5.9      75  Karahi Ghosht\n",
       "84     5.4      61        Biryani\n",
       "85     6.2      68  Chicken Pulao\n",
       "86     5.1      96        Biryani\n",
       "\n",
       "[87 rows x 3 columns]"
      ]
     },
     "execution_count": 3,
     "metadata": {},
     "output_type": "execute_result"
    }
   ],
   "source": [
    "df"
   ]
  },
  {
   "cell_type": "markdown",
   "metadata": {},
   "source": [
    "**Head of the file :**\n",
    "\n",
    "The head of the file is the first 5 lines of the data frame. We can also increase the number of lines in header file by entering the parameter in the function. And after give the variable to the function like in the above function. We can also use pandas function with using the variable name. Example in the below :"
   ]
  },
  {
   "cell_type": "code",
   "execution_count": 4,
   "metadata": {},
   "outputs": [
    {
     "data": {
      "application/vnd.microsoft.datawrangler.viewer.v0+json": {
       "columns": [
        {
         "name": "index",
         "rawType": "int64",
         "type": "integer"
        },
        {
         "name": "Height",
         "rawType": "float64",
         "type": "float"
        },
        {
         "name": "Weight",
         "rawType": "int64",
         "type": "integer"
        },
        {
         "name": "Favourite Dish",
         "rawType": "object",
         "type": "string"
        }
       ],
       "ref": "9a9aba2d-f5b3-4da0-ad85-a4726669479f",
       "rows": [
        [
         "0",
         "5.8",
         "101",
         "Chicken Pulao"
        ],
        [
         "1",
         "6.2",
         "92",
         "Biryani"
        ],
        [
         "2",
         "5.9",
         "62",
         "Karahi Ghosht"
        ],
        [
         "3",
         "5.9",
         "95",
         "Chicken Pulao"
        ],
        [
         "4",
         "5.9",
         "55",
         "Chicken Pulao"
        ],
        [
         "5",
         "5.3",
         "59",
         "Biryani"
        ],
        [
         "6",
         "5.6",
         "50",
         "Pasta"
        ],
        [
         "7",
         "5.9",
         "76",
         "Biryani"
        ],
        [
         "8",
         "5.1",
         "78",
         "Biryani"
        ],
        [
         "9",
         "5.4",
         "68",
         "Biryani"
        ]
       ],
       "shape": {
        "columns": 3,
        "rows": 10
       }
      },
      "text/html": [
       "<div>\n",
       "<style scoped>\n",
       "    .dataframe tbody tr th:only-of-type {\n",
       "        vertical-align: middle;\n",
       "    }\n",
       "\n",
       "    .dataframe tbody tr th {\n",
       "        vertical-align: top;\n",
       "    }\n",
       "\n",
       "    .dataframe thead th {\n",
       "        text-align: right;\n",
       "    }\n",
       "</style>\n",
       "<table border=\"1\" class=\"dataframe\">\n",
       "  <thead>\n",
       "    <tr style=\"text-align: right;\">\n",
       "      <th></th>\n",
       "      <th>Height</th>\n",
       "      <th>Weight</th>\n",
       "      <th>Favourite Dish</th>\n",
       "    </tr>\n",
       "  </thead>\n",
       "  <tbody>\n",
       "    <tr>\n",
       "      <th>0</th>\n",
       "      <td>5.8</td>\n",
       "      <td>101</td>\n",
       "      <td>Chicken Pulao</td>\n",
       "    </tr>\n",
       "    <tr>\n",
       "      <th>1</th>\n",
       "      <td>6.2</td>\n",
       "      <td>92</td>\n",
       "      <td>Biryani</td>\n",
       "    </tr>\n",
       "    <tr>\n",
       "      <th>2</th>\n",
       "      <td>5.9</td>\n",
       "      <td>62</td>\n",
       "      <td>Karahi Ghosht</td>\n",
       "    </tr>\n",
       "    <tr>\n",
       "      <th>3</th>\n",
       "      <td>5.9</td>\n",
       "      <td>95</td>\n",
       "      <td>Chicken Pulao</td>\n",
       "    </tr>\n",
       "    <tr>\n",
       "      <th>4</th>\n",
       "      <td>5.9</td>\n",
       "      <td>55</td>\n",
       "      <td>Chicken Pulao</td>\n",
       "    </tr>\n",
       "    <tr>\n",
       "      <th>5</th>\n",
       "      <td>5.3</td>\n",
       "      <td>59</td>\n",
       "      <td>Biryani</td>\n",
       "    </tr>\n",
       "    <tr>\n",
       "      <th>6</th>\n",
       "      <td>5.6</td>\n",
       "      <td>50</td>\n",
       "      <td>Pasta</td>\n",
       "    </tr>\n",
       "    <tr>\n",
       "      <th>7</th>\n",
       "      <td>5.9</td>\n",
       "      <td>76</td>\n",
       "      <td>Biryani</td>\n",
       "    </tr>\n",
       "    <tr>\n",
       "      <th>8</th>\n",
       "      <td>5.1</td>\n",
       "      <td>78</td>\n",
       "      <td>Biryani</td>\n",
       "    </tr>\n",
       "    <tr>\n",
       "      <th>9</th>\n",
       "      <td>5.4</td>\n",
       "      <td>68</td>\n",
       "      <td>Biryani</td>\n",
       "    </tr>\n",
       "  </tbody>\n",
       "</table>\n",
       "</div>"
      ],
      "text/plain": [
       "   Height  Weight Favourite Dish\n",
       "0     5.8     101  Chicken Pulao\n",
       "1     6.2      92        Biryani\n",
       "2     5.9      62  Karahi Ghosht\n",
       "3     5.9      95  Chicken Pulao\n",
       "4     5.9      55  Chicken Pulao\n",
       "5     5.3      59        Biryani\n",
       "6     5.6      50          Pasta\n",
       "7     5.9      76        Biryani\n",
       "8     5.1      78        Biryani\n",
       "9     5.4      68        Biryani"
      ]
     },
     "execution_count": 4,
     "metadata": {},
     "output_type": "execute_result"
    }
   ],
   "source": [
    "# Without parameter :\n",
    "\n",
    "df.head ()\n",
    "\n",
    "# With parameter :\n",
    "\n",
    "df.head (10)"
   ]
  },
  {
   "cell_type": "markdown",
   "metadata": {},
   "source": [
    "**Tail of the file :**\n",
    "\n",
    "The tail of the file is the last 5 lines of the data frame. We can also increase the number of lines in tail by entering the parameter in the function. Example in the below :"
   ]
  },
  {
   "cell_type": "code",
   "execution_count": 5,
   "metadata": {},
   "outputs": [
    {
     "data": {
      "application/vnd.microsoft.datawrangler.viewer.v0+json": {
       "columns": [
        {
         "name": "index",
         "rawType": "int64",
         "type": "integer"
        },
        {
         "name": "Height",
         "rawType": "float64",
         "type": "float"
        },
        {
         "name": "Weight",
         "rawType": "int64",
         "type": "integer"
        },
        {
         "name": "Favourite Dish",
         "rawType": "object",
         "type": "string"
        }
       ],
       "ref": "faac3939-39b4-4791-b81d-586735679a43",
       "rows": [
        [
         "77",
         "5.5",
         "85",
         "Biryani"
        ],
        [
         "78",
         "5.11",
         "72",
         "Karahi Ghosht"
        ],
        [
         "79",
         "5.3",
         "62",
         "Biryani"
        ],
        [
         "80",
         "5.4",
         "55",
         "Pasta"
        ],
        [
         "81",
         "5.5",
         "52",
         "Karahi Ghosht"
        ],
        [
         "82",
         "5.4",
         "55",
         "Pasta"
        ],
        [
         "83",
         "5.9",
         "75",
         "Karahi Ghosht"
        ],
        [
         "84",
         "5.4",
         "61",
         "Biryani"
        ],
        [
         "85",
         "6.2",
         "68",
         "Chicken Pulao"
        ],
        [
         "86",
         "5.1",
         "96",
         "Biryani"
        ]
       ],
       "shape": {
        "columns": 3,
        "rows": 10
       }
      },
      "text/html": [
       "<div>\n",
       "<style scoped>\n",
       "    .dataframe tbody tr th:only-of-type {\n",
       "        vertical-align: middle;\n",
       "    }\n",
       "\n",
       "    .dataframe tbody tr th {\n",
       "        vertical-align: top;\n",
       "    }\n",
       "\n",
       "    .dataframe thead th {\n",
       "        text-align: right;\n",
       "    }\n",
       "</style>\n",
       "<table border=\"1\" class=\"dataframe\">\n",
       "  <thead>\n",
       "    <tr style=\"text-align: right;\">\n",
       "      <th></th>\n",
       "      <th>Height</th>\n",
       "      <th>Weight</th>\n",
       "      <th>Favourite Dish</th>\n",
       "    </tr>\n",
       "  </thead>\n",
       "  <tbody>\n",
       "    <tr>\n",
       "      <th>77</th>\n",
       "      <td>5.50</td>\n",
       "      <td>85</td>\n",
       "      <td>Biryani</td>\n",
       "    </tr>\n",
       "    <tr>\n",
       "      <th>78</th>\n",
       "      <td>5.11</td>\n",
       "      <td>72</td>\n",
       "      <td>Karahi Ghosht</td>\n",
       "    </tr>\n",
       "    <tr>\n",
       "      <th>79</th>\n",
       "      <td>5.30</td>\n",
       "      <td>62</td>\n",
       "      <td>Biryani</td>\n",
       "    </tr>\n",
       "    <tr>\n",
       "      <th>80</th>\n",
       "      <td>5.40</td>\n",
       "      <td>55</td>\n",
       "      <td>Pasta</td>\n",
       "    </tr>\n",
       "    <tr>\n",
       "      <th>81</th>\n",
       "      <td>5.50</td>\n",
       "      <td>52</td>\n",
       "      <td>Karahi Ghosht</td>\n",
       "    </tr>\n",
       "    <tr>\n",
       "      <th>82</th>\n",
       "      <td>5.40</td>\n",
       "      <td>55</td>\n",
       "      <td>Pasta</td>\n",
       "    </tr>\n",
       "    <tr>\n",
       "      <th>83</th>\n",
       "      <td>5.90</td>\n",
       "      <td>75</td>\n",
       "      <td>Karahi Ghosht</td>\n",
       "    </tr>\n",
       "    <tr>\n",
       "      <th>84</th>\n",
       "      <td>5.40</td>\n",
       "      <td>61</td>\n",
       "      <td>Biryani</td>\n",
       "    </tr>\n",
       "    <tr>\n",
       "      <th>85</th>\n",
       "      <td>6.20</td>\n",
       "      <td>68</td>\n",
       "      <td>Chicken Pulao</td>\n",
       "    </tr>\n",
       "    <tr>\n",
       "      <th>86</th>\n",
       "      <td>5.10</td>\n",
       "      <td>96</td>\n",
       "      <td>Biryani</td>\n",
       "    </tr>\n",
       "  </tbody>\n",
       "</table>\n",
       "</div>"
      ],
      "text/plain": [
       "    Height  Weight Favourite Dish\n",
       "77    5.50      85        Biryani\n",
       "78    5.11      72  Karahi Ghosht\n",
       "79    5.30      62        Biryani\n",
       "80    5.40      55          Pasta\n",
       "81    5.50      52  Karahi Ghosht\n",
       "82    5.40      55          Pasta\n",
       "83    5.90      75  Karahi Ghosht\n",
       "84    5.40      61        Biryani\n",
       "85    6.20      68  Chicken Pulao\n",
       "86    5.10      96        Biryani"
      ]
     },
     "execution_count": 5,
     "metadata": {},
     "output_type": "execute_result"
    }
   ],
   "source": [
    "# Without parameter :\n",
    "\n",
    "df.tail ()\n",
    "\n",
    "# With parameter :\n",
    "\n",
    "df.tail (10)"
   ]
  },
  {
   "cell_type": "markdown",
   "metadata": {},
   "source": [
    "**Show rows and columns :**\n",
    "\n",
    "`.shape` shows the number of rows and columns of the data frame or file. It cannot take peranthesis `()` of this function. \n",
    "\n",
    "**syntax of the output :**\\\n",
    "(rows , columns)"
   ]
  },
  {
   "cell_type": "code",
   "execution_count": 6,
   "metadata": {},
   "outputs": [
    {
     "data": {
      "text/plain": [
       "(87, 3)"
      ]
     },
     "execution_count": 6,
     "metadata": {},
     "output_type": "execute_result"
    }
   ],
   "source": [
    "df.shape"
   ]
  },
  {
   "cell_type": "markdown",
   "metadata": {},
   "source": [
    "**Data information :**\n",
    "\n",
    "`.info ()` shows the data information. # This will print the summary information about the DataFrame.\n",
    "and `.info` # This will print a reference to the info method, not the output of the method.\n",
    "\n",
    "**Difference b/w them Summary :**\n",
    "\n",
    "The `.info` is an attribute that points to the method, while `.info()` is the method call that executes the function and provides the DataFrame's information."
   ]
  },
  {
   "cell_type": "code",
   "execution_count": 7,
   "metadata": {},
   "outputs": [
    {
     "name": "stdout",
     "output_type": "stream",
     "text": [
      "<class 'pandas.core.frame.DataFrame'>\n",
      "RangeIndex: 87 entries, 0 to 86\n",
      "Data columns (total 3 columns):\n",
      " #   Column          Non-Null Count  Dtype  \n",
      "---  ------          --------------  -----  \n",
      " 0   Height          86 non-null     float64\n",
      " 1   Weight          87 non-null     int64  \n",
      " 2   Favourite Dish  87 non-null     object \n",
      "dtypes: float64(1), int64(1), object(1)\n",
      "memory usage: 2.2+ KB\n"
     ]
    }
   ],
   "source": [
    "# Without peranthesis () :\n",
    "\n",
    "df.info\n",
    "\n",
    "# With peranthesis () :\n",
    "\n",
    "df.info ()"
   ]
  },
  {
   "cell_type": "markdown",
   "metadata": {},
   "source": [
    "### Some commands to view data frame in python using pandas :\n",
    "\n",
    "**Functions with Parentheses :**\\\n",
    "When you use parentheses after a function name, you are calling that function. This means that the function will execute and return a result.\n",
    "\n",
    "**For example :**\n",
    "\n",
    "``` python code.\n",
    "import pandas as pd\n",
    "\n",
    "# Create a DataFrame\n",
    "df = pd.DataFrame({'A': [1, 2, 3], 'B': [4, 5, 6]})\n",
    "\n",
    "# Calling the 'head' function\n",
    "result = df.head()  # This will return the first 5 rows of the DataFrame\n",
    "print(result)\n",
    "```\n",
    "In this example, df.head() calls the head() method on the DataFrame df, and it returns the first five rows of the DataFrame.\n",
    "\n",
    "**Functions without Parentheses :**\\\n",
    "When you reference a function without parentheses, you are referring to the function itself, not calling it. This means you can pass it around as an object, assign it to a variable, or use it in other contexts without executing it. For example:\n",
    "\n",
    "``` python code.\n",
    "# Referencing the 'head' function without calling it\n",
    "head_function = df.head  # This is a reference to the 'head' method, not a call\n",
    "print(head_function)  # This will print the method object itself\n",
    "\n",
    "# You can call it later\n",
    "result = head_function()  # This will still return the first 5 rows of the DataFrame\n",
    "print(result)\n",
    "```\n",
    "In this case, head_function is a reference to the head() method of the DataFrame df, and it can be called later.\n",
    "\n",
    "**Summary :**\\\n",
    "_**With Parentheses :**_\\\n",
    "You are calling the function, executing it, and getting a result.\\\n",
    "_**Without Parentheses :**_\\\n",
    " You are referencing the function itself, allowing you to pass it around or call it later.\\\n",
    "This distinction is important in Python and applies to functions in general, not just in Pandas etc."
   ]
  },
  {
   "cell_type": "code",
   "execution_count": 8,
   "metadata": {},
   "outputs": [],
   "source": [
    "import pandas as pd\n",
    "\n",
    "df = pd.read_excel (\"pandas_01_day6.xlsx\")"
   ]
  },
  {
   "cell_type": "markdown",
   "metadata": {},
   "source": [
    "**Check index :**\n",
    "\n",
    "`.index` method are used to check the index of the data."
   ]
  },
  {
   "cell_type": "code",
   "execution_count": 9,
   "metadata": {},
   "outputs": [
    {
     "data": {
      "text/plain": [
       "RangeIndex(start=0, stop=87, step=1)"
      ]
     },
     "execution_count": 9,
     "metadata": {},
     "output_type": "execute_result"
    }
   ],
   "source": [
    "df.index"
   ]
  },
  {
   "cell_type": "markdown",
   "metadata": {},
   "source": [
    "**Check columns :**\n",
    "\n",
    "`.columns` method are used to check the columns names and data type of the data."
   ]
  },
  {
   "cell_type": "code",
   "execution_count": 10,
   "metadata": {},
   "outputs": [
    {
     "data": {
      "text/plain": [
       "Index(['Height', 'Weight', 'Favourite Dish'], dtype='object')"
      ]
     },
     "execution_count": 10,
     "metadata": {},
     "output_type": "execute_result"
    }
   ],
   "source": [
    "df.columns"
   ]
  },
  {
   "cell_type": "markdown",
   "metadata": {},
   "source": [
    "**Describe function :**\n",
    "\n",
    "Usually , the `.describe` function are used for numerical data. It is usually used to check our data summary."
   ]
  },
  {
   "cell_type": "code",
   "execution_count": 11,
   "metadata": {},
   "outputs": [
    {
     "data": {
      "application/vnd.microsoft.datawrangler.viewer.v0+json": {
       "columns": [
        {
         "name": "index",
         "rawType": "object",
         "type": "string"
        },
        {
         "name": "Height",
         "rawType": "float64",
         "type": "float"
        },
        {
         "name": "Weight",
         "rawType": "float64",
         "type": "float"
        }
       ],
       "ref": "8773ee97-1a28-435c-a66b-af2d89d279f3",
       "rows": [
        [
         "count",
         "86.0",
         "87.0"
        ],
        [
         "mean",
         "5.543720930232557",
         "70.45977011494253"
        ],
        [
         "std",
         "0.33603587522632833",
         "16.753898954544773"
        ],
        [
         "min",
         "5.0",
         "25.0"
        ],
        [
         "25%",
         "5.225",
         "60.0"
        ],
        [
         "50%",
         "5.6",
         "70.0"
        ],
        [
         "75%",
         "5.8",
         "80.0"
        ],
        [
         "max",
         "6.2",
         "125.0"
        ]
       ],
       "shape": {
        "columns": 2,
        "rows": 8
       }
      },
      "text/html": [
       "<div>\n",
       "<style scoped>\n",
       "    .dataframe tbody tr th:only-of-type {\n",
       "        vertical-align: middle;\n",
       "    }\n",
       "\n",
       "    .dataframe tbody tr th {\n",
       "        vertical-align: top;\n",
       "    }\n",
       "\n",
       "    .dataframe thead th {\n",
       "        text-align: right;\n",
       "    }\n",
       "</style>\n",
       "<table border=\"1\" class=\"dataframe\">\n",
       "  <thead>\n",
       "    <tr style=\"text-align: right;\">\n",
       "      <th></th>\n",
       "      <th>Height</th>\n",
       "      <th>Weight</th>\n",
       "    </tr>\n",
       "  </thead>\n",
       "  <tbody>\n",
       "    <tr>\n",
       "      <th>count</th>\n",
       "      <td>86.000000</td>\n",
       "      <td>87.000000</td>\n",
       "    </tr>\n",
       "    <tr>\n",
       "      <th>mean</th>\n",
       "      <td>5.543721</td>\n",
       "      <td>70.459770</td>\n",
       "    </tr>\n",
       "    <tr>\n",
       "      <th>std</th>\n",
       "      <td>0.336036</td>\n",
       "      <td>16.753899</td>\n",
       "    </tr>\n",
       "    <tr>\n",
       "      <th>min</th>\n",
       "      <td>5.000000</td>\n",
       "      <td>25.000000</td>\n",
       "    </tr>\n",
       "    <tr>\n",
       "      <th>25%</th>\n",
       "      <td>5.225000</td>\n",
       "      <td>60.000000</td>\n",
       "    </tr>\n",
       "    <tr>\n",
       "      <th>50%</th>\n",
       "      <td>5.600000</td>\n",
       "      <td>70.000000</td>\n",
       "    </tr>\n",
       "    <tr>\n",
       "      <th>75%</th>\n",
       "      <td>5.800000</td>\n",
       "      <td>80.000000</td>\n",
       "    </tr>\n",
       "    <tr>\n",
       "      <th>max</th>\n",
       "      <td>6.200000</td>\n",
       "      <td>125.000000</td>\n",
       "    </tr>\n",
       "  </tbody>\n",
       "</table>\n",
       "</div>"
      ],
      "text/plain": [
       "          Height      Weight\n",
       "count  86.000000   87.000000\n",
       "mean    5.543721   70.459770\n",
       "std     0.336036   16.753899\n",
       "min     5.000000   25.000000\n",
       "25%     5.225000   60.000000\n",
       "50%     5.600000   70.000000\n",
       "75%     5.800000   80.000000\n",
       "max     6.200000  125.000000"
      ]
     },
     "execution_count": 11,
     "metadata": {},
     "output_type": "execute_result"
    }
   ],
   "source": [
    "df.describe ()"
   ]
  },
  {
   "cell_type": "markdown",
   "metadata": {},
   "source": [
    "**Transport function :**\n",
    "\n",
    "`.T` function are used to change rows into columns and columns into rows."
   ]
  },
  {
   "cell_type": "code",
   "execution_count": 12,
   "metadata": {},
   "outputs": [
    {
     "data": {
      "application/vnd.microsoft.datawrangler.viewer.v0+json": {
       "columns": [
        {
         "name": "index",
         "rawType": "object",
         "type": "string"
        },
        {
         "name": "0",
         "rawType": "object",
         "type": "unknown"
        },
        {
         "name": "1",
         "rawType": "object",
         "type": "unknown"
        },
        {
         "name": "2",
         "rawType": "object",
         "type": "unknown"
        },
        {
         "name": "3",
         "rawType": "object",
         "type": "unknown"
        },
        {
         "name": "4",
         "rawType": "object",
         "type": "unknown"
        },
        {
         "name": "5",
         "rawType": "object",
         "type": "unknown"
        },
        {
         "name": "6",
         "rawType": "object",
         "type": "unknown"
        },
        {
         "name": "7",
         "rawType": "object",
         "type": "unknown"
        },
        {
         "name": "8",
         "rawType": "object",
         "type": "unknown"
        },
        {
         "name": "9",
         "rawType": "object",
         "type": "unknown"
        },
        {
         "name": "10",
         "rawType": "object",
         "type": "unknown"
        },
        {
         "name": "11",
         "rawType": "object",
         "type": "unknown"
        },
        {
         "name": "12",
         "rawType": "object",
         "type": "unknown"
        },
        {
         "name": "13",
         "rawType": "object",
         "type": "unknown"
        },
        {
         "name": "14",
         "rawType": "object",
         "type": "unknown"
        },
        {
         "name": "15",
         "rawType": "object",
         "type": "unknown"
        },
        {
         "name": "16",
         "rawType": "object",
         "type": "unknown"
        },
        {
         "name": "17",
         "rawType": "object",
         "type": "unknown"
        },
        {
         "name": "18",
         "rawType": "object",
         "type": "unknown"
        },
        {
         "name": "19",
         "rawType": "object",
         "type": "unknown"
        },
        {
         "name": "20",
         "rawType": "object",
         "type": "unknown"
        },
        {
         "name": "21",
         "rawType": "object",
         "type": "unknown"
        },
        {
         "name": "22",
         "rawType": "object",
         "type": "unknown"
        },
        {
         "name": "23",
         "rawType": "object",
         "type": "unknown"
        },
        {
         "name": "24",
         "rawType": "object",
         "type": "unknown"
        },
        {
         "name": "25",
         "rawType": "object",
         "type": "unknown"
        },
        {
         "name": "26",
         "rawType": "object",
         "type": "unknown"
        },
        {
         "name": "27",
         "rawType": "object",
         "type": "unknown"
        },
        {
         "name": "28",
         "rawType": "object",
         "type": "unknown"
        },
        {
         "name": "29",
         "rawType": "object",
         "type": "unknown"
        },
        {
         "name": "30",
         "rawType": "object",
         "type": "unknown"
        },
        {
         "name": "31",
         "rawType": "object",
         "type": "unknown"
        },
        {
         "name": "32",
         "rawType": "object",
         "type": "unknown"
        },
        {
         "name": "33",
         "rawType": "object",
         "type": "unknown"
        },
        {
         "name": "34",
         "rawType": "object",
         "type": "unknown"
        },
        {
         "name": "35",
         "rawType": "object",
         "type": "unknown"
        },
        {
         "name": "36",
         "rawType": "object",
         "type": "unknown"
        },
        {
         "name": "37",
         "rawType": "object",
         "type": "unknown"
        },
        {
         "name": "38",
         "rawType": "object",
         "type": "unknown"
        },
        {
         "name": "39",
         "rawType": "object",
         "type": "unknown"
        },
        {
         "name": "40",
         "rawType": "object",
         "type": "unknown"
        },
        {
         "name": "41",
         "rawType": "object",
         "type": "unknown"
        },
        {
         "name": "42",
         "rawType": "object",
         "type": "unknown"
        },
        {
         "name": "43",
         "rawType": "object",
         "type": "unknown"
        },
        {
         "name": "44",
         "rawType": "object",
         "type": "unknown"
        },
        {
         "name": "45",
         "rawType": "object",
         "type": "unknown"
        },
        {
         "name": "46",
         "rawType": "object",
         "type": "unknown"
        },
        {
         "name": "47",
         "rawType": "object",
         "type": "unknown"
        },
        {
         "name": "48",
         "rawType": "object",
         "type": "unknown"
        },
        {
         "name": "49",
         "rawType": "object",
         "type": "unknown"
        },
        {
         "name": "50",
         "rawType": "object",
         "type": "unknown"
        },
        {
         "name": "51",
         "rawType": "object",
         "type": "unknown"
        },
        {
         "name": "52",
         "rawType": "object",
         "type": "unknown"
        },
        {
         "name": "53",
         "rawType": "object",
         "type": "unknown"
        },
        {
         "name": "54",
         "rawType": "object",
         "type": "unknown"
        },
        {
         "name": "55",
         "rawType": "object",
         "type": "unknown"
        },
        {
         "name": "56",
         "rawType": "object",
         "type": "unknown"
        },
        {
         "name": "57",
         "rawType": "object",
         "type": "unknown"
        },
        {
         "name": "58",
         "rawType": "object",
         "type": "unknown"
        },
        {
         "name": "59",
         "rawType": "object",
         "type": "unknown"
        },
        {
         "name": "60",
         "rawType": "object",
         "type": "unknown"
        },
        {
         "name": "61",
         "rawType": "object",
         "type": "unknown"
        },
        {
         "name": "62",
         "rawType": "object",
         "type": "unknown"
        },
        {
         "name": "63",
         "rawType": "object",
         "type": "unknown"
        },
        {
         "name": "64",
         "rawType": "object",
         "type": "unknown"
        },
        {
         "name": "65",
         "rawType": "object",
         "type": "unknown"
        },
        {
         "name": "66",
         "rawType": "object",
         "type": "unknown"
        },
        {
         "name": "67",
         "rawType": "object",
         "type": "unknown"
        },
        {
         "name": "68",
         "rawType": "object",
         "type": "unknown"
        },
        {
         "name": "69",
         "rawType": "object",
         "type": "unknown"
        },
        {
         "name": "70",
         "rawType": "object",
         "type": "unknown"
        },
        {
         "name": "71",
         "rawType": "object",
         "type": "unknown"
        },
        {
         "name": "72",
         "rawType": "object",
         "type": "unknown"
        },
        {
         "name": "73",
         "rawType": "object",
         "type": "unknown"
        },
        {
         "name": "74",
         "rawType": "object",
         "type": "unknown"
        },
        {
         "name": "75",
         "rawType": "object",
         "type": "unknown"
        },
        {
         "name": "76",
         "rawType": "object",
         "type": "unknown"
        },
        {
         "name": "77",
         "rawType": "object",
         "type": "unknown"
        },
        {
         "name": "78",
         "rawType": "object",
         "type": "unknown"
        },
        {
         "name": "79",
         "rawType": "object",
         "type": "unknown"
        },
        {
         "name": "80",
         "rawType": "object",
         "type": "unknown"
        },
        {
         "name": "81",
         "rawType": "object",
         "type": "unknown"
        },
        {
         "name": "82",
         "rawType": "object",
         "type": "unknown"
        },
        {
         "name": "83",
         "rawType": "object",
         "type": "unknown"
        },
        {
         "name": "84",
         "rawType": "object",
         "type": "unknown"
        },
        {
         "name": "85",
         "rawType": "object",
         "type": "unknown"
        },
        {
         "name": "86",
         "rawType": "object",
         "type": "unknown"
        }
       ],
       "ref": "c4ffb833-ede2-4748-84c8-47f2b42cd20c",
       "rows": [
        [
         "Height",
         "5.8",
         "6.2",
         "5.9",
         "5.9",
         "5.9",
         "5.3",
         "5.6",
         "5.9",
         "5.1",
         "5.4",
         "5.11",
         "5.7",
         "6.1",
         "5.7",
         "5.8",
         "5.0",
         "5.7",
         "5.9",
         "5.8",
         "5.5",
         "6.0",
         "5.6",
         "5.8",
         "5.7",
         "5.3",
         "6.0",
         "5.0",
         "5.11",
         "5.8",
         "5.4",
         "5.1",
         "5.9",
         "5.9",
         "5.1",
         "6.0",
         "5.0",
         "5.7",
         "5.6",
         "5.1",
         "5.11",
         "5.0",
         "5.6",
         "5.6",
         "5.9",
         "5.2",
         null,
         "5.8",
         "5.9",
         "5.6",
         "5.4",
         "5.7",
         "5.9",
         "5.7",
         "5.2",
         "5.8",
         "5.8",
         "5.3",
         "5.1",
         "5.9",
         "5.2",
         "6.0",
         "5.5",
         "5.11",
         "5.2",
         "5.0",
         "5.4",
         "5.3",
         "5.8",
         "5.5",
         "5.1",
         "5.3",
         "5.4",
         "5.8",
         "5.11",
         "5.6",
         "6.0",
         "5.7",
         "5.5",
         "5.11",
         "5.3",
         "5.4",
         "5.5",
         "5.4",
         "5.9",
         "5.4",
         "6.2",
         "5.1"
        ],
        [
         "Weight",
         "101",
         "92",
         "62",
         "95",
         "55",
         "59",
         "50",
         "76",
         "78",
         "68",
         "92",
         "73",
         "78",
         "80",
         "95",
         "57",
         "68",
         "91",
         "71",
         "64",
         "85",
         "72",
         "74",
         "78",
         "75",
         "50",
         "25",
         "76",
         "65",
         "63",
         "62",
         "85",
         "75",
         "103",
         "110",
         "31",
         "80",
         "52",
         "61",
         "55",
         "50",
         "86",
         "49",
         "64",
         "48",
         "60",
         "88",
         "82",
         "72",
         "60",
         "72",
         "68",
         "65",
         "61",
         "52",
         "60",
         "75",
         "85",
         "55",
         "51",
         "88",
         "80",
         "95",
         "52",
         "90",
         "70",
         "62",
         "72",
         "52",
         "70",
         "65",
         "55",
         "73",
         "78",
         "62",
         "125",
         "75",
         "85",
         "72",
         "62",
         "55",
         "52",
         "55",
         "75",
         "61",
         "68",
         "96"
        ],
        [
         "Favourite Dish",
         "Chicken Pulao",
         "Biryani",
         "Karahi Ghosht",
         "Chicken Pulao",
         "Chicken Pulao",
         "Biryani",
         "Pasta",
         "Biryani",
         "Biryani",
         "Biryani",
         "Karahi Ghosht",
         "Biryani",
         "Biryani",
         "Karahi Ghosht",
         "Karahi Ghosht",
         "Biryani",
         "Karahi Ghosht",
         "Biryani",
         "Karahi Ghosht",
         "Biryani",
         "Biryani",
         "Biryani",
         "Chicken Pulao",
         "Biryani",
         "Chicken Pulao",
         "Biryani",
         "Biryani",
         "Chicken Pulao",
         "Biryani",
         "Biryani",
         "Karahi Ghosht",
         "Chicken Pulao",
         "Chicken Pulao",
         "Chapel Kaba",
         "Chapel Kaba",
         "Biryani",
         "Karahi Ghosht",
         "Chicken Pulao",
         "Chapel Kaba",
         "Chicken Pulao",
         "Chicken Pulao",
         "Chicken Pulao",
         "Chicken Pulao",
         "Biryani",
         "Biryani",
         "Chapel Kaba",
         "Biryani",
         "Karahi Ghosht",
         "Chapel Kaba",
         "Biryani",
         "Biryani",
         "Biryani",
         "Biryani",
         "Pasta",
         "Pasta",
         "Karahi Ghosht",
         "Pasta",
         "Biryani",
         "Biryani",
         "Chapel Kaba",
         "Biryani",
         "Chicken Pulao",
         "Pasta",
         "Pasta",
         "Biryani",
         "Biryani",
         "Biryani",
         "Biryani",
         "Karahi Ghosht",
         "Biryani",
         "Chapel Kaba",
         "Pasta",
         "Biryani",
         "Biryani",
         "Karahi Ghosht",
         "Chapel Kaba",
         "Biryani",
         "Biryani",
         "Karahi Ghosht",
         "Biryani",
         "Pasta",
         "Karahi Ghosht",
         "Pasta",
         "Karahi Ghosht",
         "Biryani",
         "Chicken Pulao",
         "Biryani"
        ]
       ],
       "shape": {
        "columns": 87,
        "rows": 3
       }
      },
      "text/html": [
       "<div>\n",
       "<style scoped>\n",
       "    .dataframe tbody tr th:only-of-type {\n",
       "        vertical-align: middle;\n",
       "    }\n",
       "\n",
       "    .dataframe tbody tr th {\n",
       "        vertical-align: top;\n",
       "    }\n",
       "\n",
       "    .dataframe thead th {\n",
       "        text-align: right;\n",
       "    }\n",
       "</style>\n",
       "<table border=\"1\" class=\"dataframe\">\n",
       "  <thead>\n",
       "    <tr style=\"text-align: right;\">\n",
       "      <th></th>\n",
       "      <th>0</th>\n",
       "      <th>1</th>\n",
       "      <th>2</th>\n",
       "      <th>3</th>\n",
       "      <th>4</th>\n",
       "      <th>5</th>\n",
       "      <th>6</th>\n",
       "      <th>7</th>\n",
       "      <th>8</th>\n",
       "      <th>9</th>\n",
       "      <th>...</th>\n",
       "      <th>77</th>\n",
       "      <th>78</th>\n",
       "      <th>79</th>\n",
       "      <th>80</th>\n",
       "      <th>81</th>\n",
       "      <th>82</th>\n",
       "      <th>83</th>\n",
       "      <th>84</th>\n",
       "      <th>85</th>\n",
       "      <th>86</th>\n",
       "    </tr>\n",
       "  </thead>\n",
       "  <tbody>\n",
       "    <tr>\n",
       "      <th>Height</th>\n",
       "      <td>5.8</td>\n",
       "      <td>6.2</td>\n",
       "      <td>5.9</td>\n",
       "      <td>5.9</td>\n",
       "      <td>5.9</td>\n",
       "      <td>5.3</td>\n",
       "      <td>5.6</td>\n",
       "      <td>5.9</td>\n",
       "      <td>5.1</td>\n",
       "      <td>5.4</td>\n",
       "      <td>...</td>\n",
       "      <td>5.5</td>\n",
       "      <td>5.11</td>\n",
       "      <td>5.3</td>\n",
       "      <td>5.4</td>\n",
       "      <td>5.5</td>\n",
       "      <td>5.4</td>\n",
       "      <td>5.9</td>\n",
       "      <td>5.4</td>\n",
       "      <td>6.2</td>\n",
       "      <td>5.1</td>\n",
       "    </tr>\n",
       "    <tr>\n",
       "      <th>Weight</th>\n",
       "      <td>101</td>\n",
       "      <td>92</td>\n",
       "      <td>62</td>\n",
       "      <td>95</td>\n",
       "      <td>55</td>\n",
       "      <td>59</td>\n",
       "      <td>50</td>\n",
       "      <td>76</td>\n",
       "      <td>78</td>\n",
       "      <td>68</td>\n",
       "      <td>...</td>\n",
       "      <td>85</td>\n",
       "      <td>72</td>\n",
       "      <td>62</td>\n",
       "      <td>55</td>\n",
       "      <td>52</td>\n",
       "      <td>55</td>\n",
       "      <td>75</td>\n",
       "      <td>61</td>\n",
       "      <td>68</td>\n",
       "      <td>96</td>\n",
       "    </tr>\n",
       "    <tr>\n",
       "      <th>Favourite Dish</th>\n",
       "      <td>Chicken Pulao</td>\n",
       "      <td>Biryani</td>\n",
       "      <td>Karahi Ghosht</td>\n",
       "      <td>Chicken Pulao</td>\n",
       "      <td>Chicken Pulao</td>\n",
       "      <td>Biryani</td>\n",
       "      <td>Pasta</td>\n",
       "      <td>Biryani</td>\n",
       "      <td>Biryani</td>\n",
       "      <td>Biryani</td>\n",
       "      <td>...</td>\n",
       "      <td>Biryani</td>\n",
       "      <td>Karahi Ghosht</td>\n",
       "      <td>Biryani</td>\n",
       "      <td>Pasta</td>\n",
       "      <td>Karahi Ghosht</td>\n",
       "      <td>Pasta</td>\n",
       "      <td>Karahi Ghosht</td>\n",
       "      <td>Biryani</td>\n",
       "      <td>Chicken Pulao</td>\n",
       "      <td>Biryani</td>\n",
       "    </tr>\n",
       "  </tbody>\n",
       "</table>\n",
       "<p>3 rows × 87 columns</p>\n",
       "</div>"
      ],
      "text/plain": [
       "                           0        1              2              3   \\\n",
       "Height                    5.8      6.2            5.9            5.9   \n",
       "Weight                    101       92             62             95   \n",
       "Favourite Dish  Chicken Pulao  Biryani  Karahi Ghosht  Chicken Pulao   \n",
       "\n",
       "                           4        5      6        7        8        9   ...  \\\n",
       "Height                    5.9      5.3    5.6      5.9      5.1      5.4  ...   \n",
       "Weight                     55       59     50       76       78       68  ...   \n",
       "Favourite Dish  Chicken Pulao  Biryani  Pasta  Biryani  Biryani  Biryani  ...   \n",
       "\n",
       "                     77             78       79     80             81     82  \\\n",
       "Height              5.5           5.11      5.3    5.4            5.5    5.4   \n",
       "Weight               85             72       62     55             52     55   \n",
       "Favourite Dish  Biryani  Karahi Ghosht  Biryani  Pasta  Karahi Ghosht  Pasta   \n",
       "\n",
       "                           83       84             85       86  \n",
       "Height                    5.9      5.4            6.2      5.1  \n",
       "Weight                     75       61             68       96  \n",
       "Favourite Dish  Karahi Ghosht  Biryani  Chicken Pulao  Biryani  \n",
       "\n",
       "[3 rows x 87 columns]"
      ]
     },
     "execution_count": 12,
     "metadata": {},
     "output_type": "execute_result"
    }
   ],
   "source": [
    "df.T"
   ]
  },
  {
   "cell_type": "markdown",
   "metadata": {},
   "source": [
    "**Sort index method :**\n",
    "\n",
    "`.sort_index ()` function are used to sort the data based on the index and we can also sort the data in ascending order , descending order and other more things just pass the parameter in the function.\n",
    "\n",
    "**Note :**\n",
    "\n",
    "If we want to sort the data in descending or ascending order we just type `ascending=True` for ascending order and `ascending=False` for descending order. It cannot take `decending=True` **OR** `decending=False`.\n",
    "\n",
    "***Example in the below :***"
   ]
  },
  {
   "cell_type": "code",
   "execution_count": 13,
   "metadata": {},
   "outputs": [
    {
     "data": {
      "application/vnd.microsoft.datawrangler.viewer.v0+json": {
       "columns": [
        {
         "name": "index",
         "rawType": "int64",
         "type": "integer"
        },
        {
         "name": "Height",
         "rawType": "float64",
         "type": "float"
        },
        {
         "name": "Weight",
         "rawType": "int64",
         "type": "integer"
        },
        {
         "name": "Favourite Dish",
         "rawType": "object",
         "type": "string"
        }
       ],
       "ref": "f30e1ded-4e35-4548-b0e9-d6565a41eb18",
       "rows": [
        [
         "86",
         "5.1",
         "96",
         "Biryani"
        ],
        [
         "85",
         "6.2",
         "68",
         "Chicken Pulao"
        ],
        [
         "84",
         "5.4",
         "61",
         "Biryani"
        ],
        [
         "83",
         "5.9",
         "75",
         "Karahi Ghosht"
        ],
        [
         "82",
         "5.4",
         "55",
         "Pasta"
        ],
        [
         "81",
         "5.5",
         "52",
         "Karahi Ghosht"
        ],
        [
         "80",
         "5.4",
         "55",
         "Pasta"
        ],
        [
         "79",
         "5.3",
         "62",
         "Biryani"
        ],
        [
         "78",
         "5.11",
         "72",
         "Karahi Ghosht"
        ],
        [
         "77",
         "5.5",
         "85",
         "Biryani"
        ],
        [
         "76",
         "5.7",
         "75",
         "Biryani"
        ],
        [
         "75",
         "6.0",
         "125",
         "Chapel Kaba"
        ],
        [
         "74",
         "5.6",
         "62",
         "Karahi Ghosht"
        ],
        [
         "73",
         "5.11",
         "78",
         "Biryani"
        ],
        [
         "72",
         "5.8",
         "73",
         "Biryani"
        ],
        [
         "71",
         "5.4",
         "55",
         "Pasta"
        ],
        [
         "70",
         "5.3",
         "65",
         "Chapel Kaba"
        ],
        [
         "69",
         "5.1",
         "70",
         "Biryani"
        ],
        [
         "68",
         "5.5",
         "52",
         "Karahi Ghosht"
        ],
        [
         "67",
         "5.8",
         "72",
         "Biryani"
        ],
        [
         "66",
         "5.3",
         "62",
         "Biryani"
        ],
        [
         "65",
         "5.4",
         "70",
         "Biryani"
        ],
        [
         "64",
         "5.0",
         "90",
         "Biryani"
        ],
        [
         "63",
         "5.2",
         "52",
         "Pasta"
        ],
        [
         "62",
         "5.11",
         "95",
         "Pasta"
        ],
        [
         "61",
         "5.5",
         "80",
         "Chicken Pulao"
        ],
        [
         "60",
         "6.0",
         "88",
         "Biryani"
        ],
        [
         "59",
         "5.2",
         "51",
         "Chapel Kaba"
        ],
        [
         "58",
         "5.9",
         "55",
         "Biryani"
        ],
        [
         "57",
         "5.1",
         "85",
         "Biryani"
        ],
        [
         "56",
         "5.3",
         "75",
         "Pasta"
        ],
        [
         "55",
         "5.8",
         "60",
         "Karahi Ghosht"
        ],
        [
         "54",
         "5.8",
         "52",
         "Pasta"
        ],
        [
         "53",
         "5.2",
         "61",
         "Pasta"
        ],
        [
         "52",
         "5.7",
         "65",
         "Biryani"
        ],
        [
         "51",
         "5.9",
         "68",
         "Biryani"
        ],
        [
         "50",
         "5.7",
         "72",
         "Biryani"
        ],
        [
         "49",
         "5.4",
         "60",
         "Biryani"
        ],
        [
         "48",
         "5.6",
         "72",
         "Chapel Kaba"
        ],
        [
         "47",
         "5.9",
         "82",
         "Karahi Ghosht"
        ],
        [
         "46",
         "5.8",
         "88",
         "Biryani"
        ],
        [
         "45",
         null,
         "60",
         "Chapel Kaba"
        ],
        [
         "44",
         "5.2",
         "48",
         "Biryani"
        ],
        [
         "43",
         "5.9",
         "64",
         "Biryani"
        ],
        [
         "42",
         "5.6",
         "49",
         "Chicken Pulao"
        ],
        [
         "41",
         "5.6",
         "86",
         "Chicken Pulao"
        ],
        [
         "40",
         "5.0",
         "50",
         "Chicken Pulao"
        ],
        [
         "39",
         "5.11",
         "55",
         "Chicken Pulao"
        ],
        [
         "38",
         "5.1",
         "61",
         "Chapel Kaba"
        ],
        [
         "37",
         "5.6",
         "52",
         "Chicken Pulao"
        ]
       ],
       "shape": {
        "columns": 3,
        "rows": 87
       }
      },
      "text/html": [
       "<div>\n",
       "<style scoped>\n",
       "    .dataframe tbody tr th:only-of-type {\n",
       "        vertical-align: middle;\n",
       "    }\n",
       "\n",
       "    .dataframe tbody tr th {\n",
       "        vertical-align: top;\n",
       "    }\n",
       "\n",
       "    .dataframe thead th {\n",
       "        text-align: right;\n",
       "    }\n",
       "</style>\n",
       "<table border=\"1\" class=\"dataframe\">\n",
       "  <thead>\n",
       "    <tr style=\"text-align: right;\">\n",
       "      <th></th>\n",
       "      <th>Height</th>\n",
       "      <th>Weight</th>\n",
       "      <th>Favourite Dish</th>\n",
       "    </tr>\n",
       "  </thead>\n",
       "  <tbody>\n",
       "    <tr>\n",
       "      <th>86</th>\n",
       "      <td>5.1</td>\n",
       "      <td>96</td>\n",
       "      <td>Biryani</td>\n",
       "    </tr>\n",
       "    <tr>\n",
       "      <th>85</th>\n",
       "      <td>6.2</td>\n",
       "      <td>68</td>\n",
       "      <td>Chicken Pulao</td>\n",
       "    </tr>\n",
       "    <tr>\n",
       "      <th>84</th>\n",
       "      <td>5.4</td>\n",
       "      <td>61</td>\n",
       "      <td>Biryani</td>\n",
       "    </tr>\n",
       "    <tr>\n",
       "      <th>83</th>\n",
       "      <td>5.9</td>\n",
       "      <td>75</td>\n",
       "      <td>Karahi Ghosht</td>\n",
       "    </tr>\n",
       "    <tr>\n",
       "      <th>82</th>\n",
       "      <td>5.4</td>\n",
       "      <td>55</td>\n",
       "      <td>Pasta</td>\n",
       "    </tr>\n",
       "    <tr>\n",
       "      <th>...</th>\n",
       "      <td>...</td>\n",
       "      <td>...</td>\n",
       "      <td>...</td>\n",
       "    </tr>\n",
       "    <tr>\n",
       "      <th>4</th>\n",
       "      <td>5.9</td>\n",
       "      <td>55</td>\n",
       "      <td>Chicken Pulao</td>\n",
       "    </tr>\n",
       "    <tr>\n",
       "      <th>3</th>\n",
       "      <td>5.9</td>\n",
       "      <td>95</td>\n",
       "      <td>Chicken Pulao</td>\n",
       "    </tr>\n",
       "    <tr>\n",
       "      <th>2</th>\n",
       "      <td>5.9</td>\n",
       "      <td>62</td>\n",
       "      <td>Karahi Ghosht</td>\n",
       "    </tr>\n",
       "    <tr>\n",
       "      <th>1</th>\n",
       "      <td>6.2</td>\n",
       "      <td>92</td>\n",
       "      <td>Biryani</td>\n",
       "    </tr>\n",
       "    <tr>\n",
       "      <th>0</th>\n",
       "      <td>5.8</td>\n",
       "      <td>101</td>\n",
       "      <td>Chicken Pulao</td>\n",
       "    </tr>\n",
       "  </tbody>\n",
       "</table>\n",
       "<p>87 rows × 3 columns</p>\n",
       "</div>"
      ],
      "text/plain": [
       "    Height  Weight Favourite Dish\n",
       "86     5.1      96        Biryani\n",
       "85     6.2      68  Chicken Pulao\n",
       "84     5.4      61        Biryani\n",
       "83     5.9      75  Karahi Ghosht\n",
       "82     5.4      55          Pasta\n",
       "..     ...     ...            ...\n",
       "4      5.9      55  Chicken Pulao\n",
       "3      5.9      95  Chicken Pulao\n",
       "2      5.9      62  Karahi Ghosht\n",
       "1      6.2      92        Biryani\n",
       "0      5.8     101  Chicken Pulao\n",
       "\n",
       "[87 rows x 3 columns]"
      ]
     },
     "execution_count": 13,
     "metadata": {},
     "output_type": "execute_result"
    }
   ],
   "source": [
    "# Without parameter :\n",
    "\n",
    "df.sort_index ()\n",
    "\n",
    "# With parameter :\n",
    "\n",
    "df.sort_index (ascending=False)"
   ]
  },
  {
   "cell_type": "markdown",
   "metadata": {},
   "source": [
    "**sort values method :**\n",
    "\n",
    "`.sort_values ()` method are used to sort the data based on the values. It is little similar to the `.sort_index ()` method. But we can also sort the values of one column by using `by=` keyword. After `by=` keyword we enter the name of the column but first we need to type cast the column.\n",
    "\n",
    "**Note :**\n",
    "\n",
    "`by=` and `column_names` parameters are required for `.sort_values ()` and then `method` that you want to do.\n",
    "\n",
    "***Example in the below :***"
   ]
  },
  {
   "cell_type": "code",
   "execution_count": 14,
   "metadata": {},
   "outputs": [
    {
     "data": {
      "application/vnd.microsoft.datawrangler.viewer.v0+json": {
       "columns": [
        {
         "name": "index",
         "rawType": "int64",
         "type": "integer"
        },
        {
         "name": "Height",
         "rawType": "float64",
         "type": "float"
        },
        {
         "name": "Weight",
         "rawType": "int64",
         "type": "integer"
        },
        {
         "name": "Favourite Dish",
         "rawType": "object",
         "type": "string"
        }
       ],
       "ref": "016a7b5c-2af5-4170-9e6b-8e6f04b6c475",
       "rows": [
        [
         "15",
         "5.0",
         "57",
         "Biryani"
        ],
        [
         "26",
         "5.0",
         "25",
         "Biryani"
        ],
        [
         "40",
         "5.0",
         "50",
         "Chicken Pulao"
        ],
        [
         "35",
         "5.0",
         "31",
         "Biryani"
        ],
        [
         "64",
         "5.0",
         "90",
         "Biryani"
        ],
        [
         "38",
         "5.1",
         "61",
         "Chapel Kaba"
        ],
        [
         "30",
         "5.1",
         "62",
         "Karahi Ghosht"
        ],
        [
         "8",
         "5.1",
         "78",
         "Biryani"
        ],
        [
         "33",
         "5.1",
         "103",
         "Chapel Kaba"
        ],
        [
         "57",
         "5.1",
         "85",
         "Biryani"
        ],
        [
         "86",
         "5.1",
         "96",
         "Biryani"
        ],
        [
         "69",
         "5.1",
         "70",
         "Biryani"
        ],
        [
         "10",
         "5.11",
         "92",
         "Karahi Ghosht"
        ],
        [
         "27",
         "5.11",
         "76",
         "Chicken Pulao"
        ],
        [
         "62",
         "5.11",
         "95",
         "Pasta"
        ],
        [
         "39",
         "5.11",
         "55",
         "Chicken Pulao"
        ],
        [
         "73",
         "5.11",
         "78",
         "Biryani"
        ],
        [
         "78",
         "5.11",
         "72",
         "Karahi Ghosht"
        ],
        [
         "44",
         "5.2",
         "48",
         "Biryani"
        ],
        [
         "53",
         "5.2",
         "61",
         "Pasta"
        ],
        [
         "59",
         "5.2",
         "51",
         "Chapel Kaba"
        ],
        [
         "63",
         "5.2",
         "52",
         "Pasta"
        ],
        [
         "24",
         "5.3",
         "75",
         "Chicken Pulao"
        ],
        [
         "56",
         "5.3",
         "75",
         "Pasta"
        ],
        [
         "5",
         "5.3",
         "59",
         "Biryani"
        ],
        [
         "66",
         "5.3",
         "62",
         "Biryani"
        ],
        [
         "79",
         "5.3",
         "62",
         "Biryani"
        ],
        [
         "70",
         "5.3",
         "65",
         "Chapel Kaba"
        ],
        [
         "71",
         "5.4",
         "55",
         "Pasta"
        ],
        [
         "9",
         "5.4",
         "68",
         "Biryani"
        ],
        [
         "49",
         "5.4",
         "60",
         "Biryani"
        ],
        [
         "29",
         "5.4",
         "63",
         "Biryani"
        ],
        [
         "65",
         "5.4",
         "70",
         "Biryani"
        ],
        [
         "82",
         "5.4",
         "55",
         "Pasta"
        ],
        [
         "84",
         "5.4",
         "61",
         "Biryani"
        ],
        [
         "80",
         "5.4",
         "55",
         "Pasta"
        ],
        [
         "19",
         "5.5",
         "64",
         "Biryani"
        ],
        [
         "68",
         "5.5",
         "52",
         "Karahi Ghosht"
        ],
        [
         "77",
         "5.5",
         "85",
         "Biryani"
        ],
        [
         "81",
         "5.5",
         "52",
         "Karahi Ghosht"
        ],
        [
         "61",
         "5.5",
         "80",
         "Chicken Pulao"
        ],
        [
         "74",
         "5.6",
         "62",
         "Karahi Ghosht"
        ],
        [
         "37",
         "5.6",
         "52",
         "Chicken Pulao"
        ],
        [
         "21",
         "5.6",
         "72",
         "Biryani"
        ],
        [
         "6",
         "5.6",
         "50",
         "Pasta"
        ],
        [
         "41",
         "5.6",
         "86",
         "Chicken Pulao"
        ],
        [
         "48",
         "5.6",
         "72",
         "Chapel Kaba"
        ],
        [
         "42",
         "5.6",
         "49",
         "Chicken Pulao"
        ],
        [
         "11",
         "5.7",
         "73",
         "Biryani"
        ],
        [
         "13",
         "5.7",
         "80",
         "Karahi Ghosht"
        ]
       ],
       "shape": {
        "columns": 3,
        "rows": 87
       }
      },
      "text/html": [
       "<div>\n",
       "<style scoped>\n",
       "    .dataframe tbody tr th:only-of-type {\n",
       "        vertical-align: middle;\n",
       "    }\n",
       "\n",
       "    .dataframe tbody tr th {\n",
       "        vertical-align: top;\n",
       "    }\n",
       "\n",
       "    .dataframe thead th {\n",
       "        text-align: right;\n",
       "    }\n",
       "</style>\n",
       "<table border=\"1\" class=\"dataframe\">\n",
       "  <thead>\n",
       "    <tr style=\"text-align: right;\">\n",
       "      <th></th>\n",
       "      <th>Height</th>\n",
       "      <th>Weight</th>\n",
       "      <th>Favourite Dish</th>\n",
       "    </tr>\n",
       "  </thead>\n",
       "  <tbody>\n",
       "    <tr>\n",
       "      <th>15</th>\n",
       "      <td>5.0</td>\n",
       "      <td>57</td>\n",
       "      <td>Biryani</td>\n",
       "    </tr>\n",
       "    <tr>\n",
       "      <th>26</th>\n",
       "      <td>5.0</td>\n",
       "      <td>25</td>\n",
       "      <td>Biryani</td>\n",
       "    </tr>\n",
       "    <tr>\n",
       "      <th>40</th>\n",
       "      <td>5.0</td>\n",
       "      <td>50</td>\n",
       "      <td>Chicken Pulao</td>\n",
       "    </tr>\n",
       "    <tr>\n",
       "      <th>35</th>\n",
       "      <td>5.0</td>\n",
       "      <td>31</td>\n",
       "      <td>Biryani</td>\n",
       "    </tr>\n",
       "    <tr>\n",
       "      <th>64</th>\n",
       "      <td>5.0</td>\n",
       "      <td>90</td>\n",
       "      <td>Biryani</td>\n",
       "    </tr>\n",
       "    <tr>\n",
       "      <th>...</th>\n",
       "      <td>...</td>\n",
       "      <td>...</td>\n",
       "      <td>...</td>\n",
       "    </tr>\n",
       "    <tr>\n",
       "      <th>60</th>\n",
       "      <td>6.0</td>\n",
       "      <td>88</td>\n",
       "      <td>Biryani</td>\n",
       "    </tr>\n",
       "    <tr>\n",
       "      <th>12</th>\n",
       "      <td>6.1</td>\n",
       "      <td>78</td>\n",
       "      <td>Biryani</td>\n",
       "    </tr>\n",
       "    <tr>\n",
       "      <th>1</th>\n",
       "      <td>6.2</td>\n",
       "      <td>92</td>\n",
       "      <td>Biryani</td>\n",
       "    </tr>\n",
       "    <tr>\n",
       "      <th>85</th>\n",
       "      <td>6.2</td>\n",
       "      <td>68</td>\n",
       "      <td>Chicken Pulao</td>\n",
       "    </tr>\n",
       "    <tr>\n",
       "      <th>45</th>\n",
       "      <td>NaN</td>\n",
       "      <td>60</td>\n",
       "      <td>Chapel Kaba</td>\n",
       "    </tr>\n",
       "  </tbody>\n",
       "</table>\n",
       "<p>87 rows × 3 columns</p>\n",
       "</div>"
      ],
      "text/plain": [
       "    Height  Weight Favourite Dish\n",
       "15     5.0      57        Biryani\n",
       "26     5.0      25        Biryani\n",
       "40     5.0      50  Chicken Pulao\n",
       "35     5.0      31        Biryani\n",
       "64     5.0      90        Biryani\n",
       "..     ...     ...            ...\n",
       "60     6.0      88        Biryani\n",
       "12     6.1      78        Biryani\n",
       "1      6.2      92        Biryani\n",
       "85     6.2      68  Chicken Pulao\n",
       "45     NaN      60    Chapel Kaba\n",
       "\n",
       "[87 rows x 3 columns]"
      ]
     },
     "execution_count": 14,
     "metadata": {},
     "output_type": "execute_result"
    }
   ],
   "source": [
    "# With parameter :\n",
    "\n",
    "df.sort_values (by='Weight' , ascending=False)\n",
    "\n",
    "# by keyword use :\n",
    "\n",
    "df.sort_values (by=\"Height\")"
   ]
  },
  {
   "cell_type": "markdown",
   "metadata": {},
   "source": [
    "### **_More information are available in \"pandas_import_export_2.ipynb\" file..._**"
   ]
  }
 ],
 "metadata": {
  "kernelspec": {
   "display_name": "Python 3",
   "language": "python",
   "name": "python3"
  },
  "language_info": {
   "codemirror_mode": {
    "name": "ipython",
    "version": 3
   },
   "file_extension": ".py",
   "mimetype": "text/x-python",
   "name": "python",
   "nbconvert_exporter": "python",
   "pygments_lexer": "ipython3",
   "version": "3.13.7"
  }
 },
 "nbformat": 4,
 "nbformat_minor": 2
}
